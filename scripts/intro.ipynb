{
 "cells": [
  {
   "cell_type": "code",
   "execution_count": 3,
   "metadata": {},
   "outputs": [
    {
     "name": "stdout",
     "output_type": "stream",
     "text": [
      "Enter your gender: fem\n",
      "Enter  you age: 30\n",
      "Enter your email: g@gmail.com\n",
      "Enter your occupation: developer\n",
      "[{'genderUser': 'fem', 'ageUser': '30', 'emailUser': 'g@gmail.com', 'occupationUser': 'developer'}]\n"
     ]
    }
   ],
   "source": [
    "gender = input('Enter your gender: ')\n",
    "age = input('Enter  you age: ')\n",
    "email = input('Enter your email: ')\n",
    "occupation = input('Enter your occupation: ')\n",
    "dataUser = [{'genderUser':gender, 'ageUser':age, 'emailUser':email, 'occupationUser':occupation}]\n",
    "print(dataUser)\n"
   ]
  },
  {
   "cell_type": "code",
   "execution_count": 9,
   "metadata": {},
   "outputs": [
    {
     "name": "stdout",
     "output_type": "stream",
     "text": [
      "Enter your monthly salary: 1200000\n",
      "The weekly money provision is: 300000.0, semi-Annual is: 7200000, annual is: 14400000\n"
     ]
    }
   ],
   "source": [
    "#calcula la disposición de dinero semanal, semestral y anual del usuario\n",
    "monthlySalary = int(input('Enter your monthly salary: '))\n",
    "\n",
    "def calculateDispositionMoney(monthlySalary):\n",
    "    weeklyMoneyProvision = monthlySalary / 4\n",
    "    semiAnnualMoneyProvision = monthlySalary * 6\n",
    "    annualMoneyProvision = monthlySalary * 12\n",
    "    print(f'The weekly money provision is: {weeklyMoneyProvision}, semi-Annual is: {semiAnnualMoneyProvision}, annual is: {annualMoneyProvision}')\n",
    "    \n",
    "calculateDispositionMoney(monthlySalary)"
   ]
  },
  {
   "cell_type": "markdown",
   "metadata": {},
   "source": []
  },
  {
   "cell_type": "code",
   "execution_count": 19,
   "metadata": {},
   "outputs": [
    {
     "name": "stdout",
     "output_type": "stream",
     "text": [
      "Enter the credit Value: 1000\n",
      "Enter the annual interest rate: 10\n",
      "Enter the time to pay: 2\n",
      "The total value to pay of the credit es: 200\n"
     ]
    }
   ],
   "source": [
    "#calcule el costo final de un préstamo, dada una tasa de interés simple anual y un periodo de tiempo\n",
    "\n",
    "creditValue = int(input('Enter the credit Value: '))\n",
    "annualInterestRate = int(input('Enter the annual interest rate: '))\n",
    "timeToPay = int(input('Enter the time to pay: '))\n",
    "\n",
    "def calculateFinalCostCredit(creditValue, annualInterestRate, timeToPay):\n",
    "    monthlyInterestRate = (annualInterestRate / 12) / 100\n",
    "    valuePayMonthly = creditValue * monthlyInterestRate\n",
    "    totalValueToPay = int(valuePayMonthly * (timeToPay * 12))\n",
    "    print(f'The total value to pay of the credit es: {totalValueToPay}')\n",
    "    \n",
    "calculateFinalCostCredit(creditValue, annualInterestRate, timeToPay)\n"
   ]
  },
  {
   "cell_type": "code",
   "execution_count": 30,
   "metadata": {},
   "outputs": [
    {
     "name": "stdout",
     "output_type": "stream",
     "text": [
      "Do you want to calculate the area of a square, a rectangle, or a circle? cicle\n",
      "Do you want to calculate the area of a square, a rectangle, or a circle? circle\n",
      "Enter the value of the radius: 20\n",
      "The area of the circle is: 1256.6370614359173\n"
     ]
    }
   ],
   "source": [
    "#calcular el área de un cuadrado, tríangulo, círculo o rectangulo.\n",
    "\n",
    "import math\n",
    "figureToCalculateArea = input('Do you want to calculate the area of a square, a rectangle, or a circle? ')\n",
    "\n",
    "def calculeArea(figureToCalculateArea):\n",
    "    figureToCalculateArea = figureToCalculateArea.lower()\n",
    "\n",
    "    if figureToCalculateArea == 'square':\n",
    "        measureSquare = int(input('Enter the measure of the square: '))\n",
    "        areaSquare = measureSquare * measureSquare\n",
    "        print(f'The area of the square is: {areaSquare}')\n",
    "    \n",
    "    elif figureToCalculateArea == 'rectangle':\n",
    "        baseVlue = int(input('Enter base value: '))\n",
    "        heightValue = int(input('Enter height value: '))\n",
    "        areaRectangle = baseVlue * heightValue\n",
    "        print(f'The area of the rectangle is: {areaRectangle}')\n",
    "    \n",
    "    elif figureToCalculateArea == 'circle':\n",
    "        radiusValue = int(input(f'Enter the value of the radius: '))\n",
    "        areaCircle = math.pi * (radiusValue**2)\n",
    "        print(f'The area of the circle is: {areaCircle}')\n",
    "        \n",
    "    else:\n",
    "        figureToCalculateArea = input('Do you want to calculate the area of a square, a rectangle, or a circle? ')\n",
    "        calculeArea(figureToCalculateArea)\n",
    "    \n",
    "calculeArea(figureToCalculateArea)"
   ]
  },
  {
   "cell_type": "code",
   "execution_count": null,
   "metadata": {},
   "outputs": [],
   "source": []
  }
 ],
 "metadata": {
  "kernelspec": {
   "display_name": "Python 3 (ipykernel)",
   "language": "python",
   "name": "python3"
  },
  "language_info": {
   "codemirror_mode": {
    "name": "ipython",
    "version": 3
   },
   "file_extension": ".py",
   "mimetype": "text/x-python",
   "name": "python",
   "nbconvert_exporter": "python",
   "pygments_lexer": "ipython3",
   "version": "3.10.9"
  }
 },
 "nbformat": 4,
 "nbformat_minor": 2
}
