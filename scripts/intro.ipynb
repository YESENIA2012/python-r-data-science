{
 "cells": [
  {
   "cell_type": "code",
   "execution_count": 3,
   "metadata": {},
   "outputs": [
    {
     "name": "stdout",
     "output_type": "stream",
     "text": [
      "Enter your gender: fem\n",
      "Enter  you age: 30\n",
      "Enter your email: g@gmail.com\n",
      "Enter your occupation: developer\n",
      "[{'genderUser': 'fem', 'ageUser': '30', 'emailUser': 'g@gmail.com', 'occupationUser': 'developer'}]\n"
     ]
    }
   ],
   "source": [
    "gender = input('Enter your gender: ')\n",
    "age = input('Enter  you age: ')\n",
    "email = input('Enter your email: ')\n",
    "occupation = input('Enter your occupation: ')\n",
    "dataUser = [{'genderUser':gender, 'ageUser':age, 'emailUser':email, 'occupationUser':occupation}]\n",
    "print(dataUser)\n"
   ]
  },
  {
   "cell_type": "code",
   "execution_count": 9,
   "metadata": {},
   "outputs": [
    {
     "name": "stdout",
     "output_type": "stream",
     "text": [
      "Enter your monthly salary: 1200000\n",
      "The weekly money provision is: 300000.0, semi-Annual is: 7200000, annual is: 14400000\n"
     ]
    }
   ],
   "source": [
    "#calcula la disposición de dinero semanal, semestral y anual del usuario\n",
    "monthlySalary = int(input('Enter your monthly salary: '))\n",
    "\n",
    "def calculateDispositionMoney(monthlySalary):\n",
    "    weeklyMoneyProvision = monthlySalary / 4\n",
    "    semiAnnualMoneyProvision = monthlySalary * 6\n",
    "    annualMoneyProvision = monthlySalary * 12\n",
    "    print(f'The weekly money provision is: {weeklyMoneyProvision}, semi-Annual is: {semiAnnualMoneyProvision}, annual is: {annualMoneyProvision}')\n",
    "    \n",
    "calculateDispositionMoney(monthlySalary)"
   ]
  },
  {
   "cell_type": "markdown",
   "metadata": {},
   "source": []
  },
  {
   "cell_type": "code",
   "execution_count": 19,
   "metadata": {},
   "outputs": [
    {
     "name": "stdout",
     "output_type": "stream",
     "text": [
      "Enter the credit Value: 1000\n",
      "Enter the annual interest rate: 10\n",
      "Enter the time to pay: 2\n",
      "The total value to pay of the credit es: 200\n"
     ]
    }
   ],
   "source": [
    "#calcule el costo final de un préstamo, dada una tasa de interés simple anual y un periodo de tiempo\n",
    "\n",
    "creditValue = int(input('Enter the credit Value: '))\n",
    "annualInterestRate = int(input('Enter the annual interest rate: '))\n",
    "timeToPay = int(input('Enter the time to pay: '))\n",
    "\n",
    "def calculateFinalCostCredit(creditValue, annualInterestRate, timeToPay):\n",
    "    monthlyInterestRate = (annualInterestRate / 12) / 100\n",
    "    valuePayMonthly = creditValue * monthlyInterestRate\n",
    "    totalValueToPay = int(valuePayMonthly * (timeToPay * 12))\n",
    "    print(f'The total value to pay of the credit es: {totalValueToPay}')\n",
    "    \n",
    "calculateFinalCostCredit(creditValue, annualInterestRate, timeToPay)\n"
   ]
  },
  {
   "cell_type": "code",
   "execution_count": 30,
   "metadata": {
    "scrolled": true
   },
   "outputs": [
    {
     "name": "stdout",
     "output_type": "stream",
     "text": [
      "Do you want to calculate the area of a square, a rectangle, or a circle? cicle\n",
      "Do you want to calculate the area of a square, a rectangle, or a circle? circle\n",
      "Enter the value of the radius: 20\n",
      "The area of the circle is: 1256.6370614359173\n"
     ]
    }
   ],
   "source": [
    "#calcular el área de un cuadrado, tríangulo, círculo o rectangulo.\n",
    "\n",
    "import math\n",
    "figureToCalculateArea = input('Do you want to calculate the area of a square, a rectangle, or a circle? ')\n",
    "\n",
    "def calculeArea(figureToCalculateArea):\n",
    "    figureToCalculateArea = figureToCalculateArea.lower()\n",
    "\n",
    "    if figureToCalculateArea == 'square':\n",
    "        measureSquare = int(input('Enter the measure of the square: '))\n",
    "        areaSquare = measureSquare * measureSquare\n",
    "        print(f'The area of the square is: {areaSquare}')\n",
    "    \n",
    "    elif figureToCalculateArea == 'rectangle':\n",
    "        baseVlue = int(input('Enter base value: '))\n",
    "        heightValue = int(input('Enter height value: '))\n",
    "        areaRectangle = baseVlue * heightValue\n",
    "        print(f'The area of the rectangle is: {areaRectangle}')\n",
    "    \n",
    "    elif figureToCalculateArea == 'circle':\n",
    "        radiusValue = int(input(f'Enter the value of the radius: '))\n",
    "        areaCircle = math.pi * (radiusValue**2)\n",
    "        print(f'The area of the circle is: {areaCircle}')\n",
    "        \n",
    "    else:\n",
    "        figureToCalculateArea = input('Do you want to calculate the area of a square, a rectangle, or a circle? ')\n",
    "        calculeArea(figureToCalculateArea)\n",
    "    \n",
    "calculeArea(figureToCalculateArea)"
   ]
  },
  {
   "cell_type": "code",
   "execution_count": 2,
   "metadata": {},
   "outputs": [
    {
     "data": {
      "text/html": [
       "<div>\n",
       "<style scoped>\n",
       "    .dataframe tbody tr th:only-of-type {\n",
       "        vertical-align: middle;\n",
       "    }\n",
       "\n",
       "    .dataframe tbody tr th {\n",
       "        vertical-align: top;\n",
       "    }\n",
       "\n",
       "    .dataframe thead th {\n",
       "        text-align: right;\n",
       "    }\n",
       "</style>\n",
       "<table border=\"1\" class=\"dataframe\">\n",
       "  <thead>\n",
       "    <tr style=\"text-align: right;\">\n",
       "      <th></th>\n",
       "      <th>tiempo_observacion</th>\n",
       "      <th>especies_identificadas</th>\n",
       "    </tr>\n",
       "  </thead>\n",
       "  <tbody>\n",
       "    <tr>\n",
       "      <th>0</th>\n",
       "      <td>1.0</td>\n",
       "      <td>2</td>\n",
       "    </tr>\n",
       "    <tr>\n",
       "      <th>1</th>\n",
       "      <td>2.0</td>\n",
       "      <td>4</td>\n",
       "    </tr>\n",
       "    <tr>\n",
       "      <th>2</th>\n",
       "      <td>2.5</td>\n",
       "      <td>5</td>\n",
       "    </tr>\n",
       "    <tr>\n",
       "      <th>3</th>\n",
       "      <td>3.0</td>\n",
       "      <td>6</td>\n",
       "    </tr>\n",
       "    <tr>\n",
       "      <th>4</th>\n",
       "      <td>4.0</td>\n",
       "      <td>7</td>\n",
       "    </tr>\n",
       "    <tr>\n",
       "      <th>5</th>\n",
       "      <td>5.0</td>\n",
       "      <td>10</td>\n",
       "    </tr>\n",
       "    <tr>\n",
       "      <th>6</th>\n",
       "      <td>5.5</td>\n",
       "      <td>12</td>\n",
       "    </tr>\n",
       "    <tr>\n",
       "      <th>7</th>\n",
       "      <td>6.0</td>\n",
       "      <td>12</td>\n",
       "    </tr>\n",
       "    <tr>\n",
       "      <th>8</th>\n",
       "      <td>7.0</td>\n",
       "      <td>15</td>\n",
       "    </tr>\n",
       "    <tr>\n",
       "      <th>9</th>\n",
       "      <td>8.0</td>\n",
       "      <td>16</td>\n",
       "    </tr>\n",
       "  </tbody>\n",
       "</table>\n",
       "</div>"
      ],
      "text/plain": [
       "   tiempo_observacion  especies_identificadas\n",
       "0                 1.0                       2\n",
       "1                 2.0                       4\n",
       "2                 2.5                       5\n",
       "3                 3.0                       6\n",
       "4                 4.0                       7\n",
       "5                 5.0                      10\n",
       "6                 5.5                      12\n",
       "7                 6.0                      12\n",
       "8                 7.0                      15\n",
       "9                 8.0                      16"
      ]
     },
     "execution_count": 2,
     "metadata": {},
     "output_type": "execute_result"
    }
   ],
   "source": [
    "#Correlación entre la cantidad de tiempo de estudio y el éxito en las notas\n",
    "\n",
    "import sklearn #machine learning\n",
    "import numpy as np #Hacer operaciones matemáticas\n",
    "import matplotlib.pyplot as plt\n",
    "import pandas as pd #manipular data\n",
    "\n",
    "data = {'tiempo_observacion': [1,2,2.5,3,4,5,5.5,6,7,8],\n",
    "        'especies_identificadas': [2,4,5,6,7,10,12,12,15,16]}\n",
    "\n",
    "df = pd.DataFrame(data)\n",
    "df\n"
   ]
  },
  {
   "cell_type": "code",
   "execution_count": 6,
   "metadata": {},
   "outputs": [
    {
     "data": {
      "image/png": "[encoded data removed]",
      "text/plain": [
       "<Figure size 640x480 with 1 Axes>"
      ]
     },
     "metadata": {},
     "output_type": "display_data"
    }
   ],
   "source": [
    "from sklearn.linear_model import LinearRegression\n",
    "\n",
    "X = df['tiempo_observacion']\n",
    "y = df['especies_identificadas']\n",
    "\n",
    "X = X.values.reshape(-1,1) #cambia la orientación del vector oa arreglo\n",
    "Yesenia = LinearRegression()\n",
    "Yesenia.fit(X,y)\n",
    "\n",
    "y_pred = Yesenia.predict(X)\n",
    "y_pred\n",
    "\n",
    "plt.figure()\n",
    "plt.scatter(X,y)\n",
    "plt.plot(X,y_pred, linewidth = 2, color = 'red')\n",
    "plt.xlabel('Tiempo_observacion')\n",
    "plt.ylabel('Especies_identificadas')\n",
    "plt.show()\n"
   ]
  },
  {
   "cell_type": "code",
   "execution_count": 8,
   "metadata": {},
   "outputs": [
    {
     "name": "stdout",
     "output_type": "stream",
     "text": [
      "En promerio el error cuadratico fue: 0.2541577825159912\n",
      "El r cuadrado del modelo es: 0.9877159119131952\n"
     ]
    }
   ],
   "source": [
    "from sklearn.metrics import mean_squared_error, r2_score\n",
    "\n",
    "print('En promerio el error cuadratico fue:' ,mean_squared_error(y, y_pred))\n",
    "print('El r cuadrado del modelo es:',r2_score(y, y_pred))"
   ]
  },
  {
   "cell_type": "code",
   "execution_count": 16,
   "metadata": {},
   "outputs": [
    {
     "name": "stdout",
     "output_type": "stream",
     "text": [
      "Ingresa tú nomnbre Yesenia\n",
      "Ingresa las horas que dedicaste en el lago: 100\n",
      "El número de especies que podrás identificar son: 208.0\n",
      "208.0\n"
     ]
    }
   ],
   "source": [
    "#Calcular la cantidad de especies que serás capaz de identificar\n",
    "\n",
    "nombre = input('Ingresa tú nomnbre ')\n",
    "horas = int(input('Ingresa las horas que dedicaste en el lago: '))\n",
    "horas = np.array(horas).reshape(-1,1)\n",
    "prediccion = np.round(Yesenia.predict(horas)[0])\n",
    "print(f'El número de especies que podrás identificar son: {prediccion}')\n",
    "\n",
    "def prediccion(tiempo):\n",
    "    especies = np.round(2.08742 * (tiempo) - 0.284648)\n",
    "    return especies\n",
    "\n",
    "print(prediccion(100))"
   ]
  }
 ],
 "metadata": {
  "kernelspec": {
   "display_name": "Python 3 (ipykernel)",
   "language": "python",
   "name": "python3"
  },
  "language_info": {
   "codemirror_mode": {
    "name": "ipython",
    "version": 3
   },
   "file_extension": ".py",
   "mimetype": "text/x-python",
   "name": "python",
   "nbconvert_exporter": "python",
   "pygments_lexer": "ipython3",
   "version": "3.10.9"
  }
 },
 "nbformat": 4,
 "nbformat_minor": 2
}
