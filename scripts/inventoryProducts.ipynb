{
 "cells": [
  {
   "cell_type": "code",
   "execution_count": 2,
   "id": "894b71b7",
   "metadata": {},
   "outputs": [],
   "source": [
    "def new_product(name, dim, price, cat, amount):\n",
    "    product = {\n",
    "        \"name\": name,\n",
    "        \"dim\": dim,\n",
    "        \"price\": price,\n",
    "        \"cat\": cat,\n",
    "        \"amount\": amount\n",
    "    }\n",
    "    return product\n",
    "\n",
    "milk = new_product(\"milk\", \"m\", 10, \"Lacteos\", 13)\n",
    "potato = new_product(\"potato\", \"p\", 12, \"Vegetables\", 16)"
   ]
  },
  {
   "cell_type": "code",
   "execution_count": 6,
   "id": "4d508095",
   "metadata": {},
   "outputs": [
    {
     "data": {
      "text/plain": [
       "[{'name': 'milk', 'dim': 'm', 'price': 10, 'cat': 'Lacteos', 'amount': 13},\n",
       " {'name': 'potato',\n",
       "  'dim': 'p',\n",
       "  'price': 12,\n",
       "  'cat': 'Vegetables',\n",
       "  'amount': 16}]"
      ]
     },
     "execution_count": 6,
     "metadata": {},
     "output_type": "execute_result"
    }
   ],
   "source": [
    "STORE = []\n",
    "\n",
    "def add_product_store(STORE, product):\n",
    "    STORE.append(product)\n",
    "    return STORE\n",
    "\n",
    "add_product_store(STORE, milk)\n",
    "add_product_store(STORE, potato)"
   ]
  },
  {
   "cell_type": "code",
   "execution_count": 7,
   "id": "36c75082",
   "metadata": {},
   "outputs": [
    {
     "data": {
      "text/plain": [
       "{'name': 'milk', 'dim': 'm', 'price': 10, 'cat': 'Lacteos', 'amount': 23}"
      ]
     },
     "execution_count": 7,
     "metadata": {},
     "output_type": "execute_result"
    }
   ],
   "source": [
    "def refill_product(product, cant):\n",
    "    product[\"amount\"] = product[\"amount\"] + cant\n",
    "    return product\n",
    "\n",
    "refill_product(milk, 10)"
   ]
  },
  {
   "cell_type": "code",
   "execution_count": 8,
   "id": "0ef589ef",
   "metadata": {},
   "outputs": [
    {
     "data": {
      "text/plain": [
       "{'name': 'milk', 'dim': 'm', 'price': 10, 'cat': 'Lacteos', 'amount': 8}"
      ]
     },
     "execution_count": 8,
     "metadata": {},
     "output_type": "execute_result"
    }
   ],
   "source": [
    "def sell_product(product, cantLess):\n",
    "    if product[\"amount\"] - cantLess <= 0:\n",
    "        print(f\"Not enough products to perform sell, only {product['amount']} availible\")\n",
    "    else: \n",
    "        product[\"amount\"] = product[\"amount\"] - cantLess\n",
    "        return product\n",
    "    \n",
    "sell_product(milk, 15) "
   ]
  },
  {
   "cell_type": "code",
   "execution_count": 9,
   "id": "6a967385",
   "metadata": {},
   "outputs": [
    {
     "name": "stdout",
     "output_type": "stream",
     "text": [
      "Availible\n"
     ]
    },
    {
     "data": {
      "text/plain": [
       "{'name': 'milk', 'dim': 'm', 'price': 10, 'cat': 'Lacteos', 'amount': 8}"
      ]
     },
     "execution_count": 9,
     "metadata": {},
     "output_type": "execute_result"
    }
   ],
   "source": [
    "#seek and get a product\n",
    "\n",
    "def seek_product(product):\n",
    "    seek = product\n",
    "    token = False\n",
    "    for element in STORE:\n",
    "        if element['name'] == product:\n",
    "            token = True\n",
    "            print('Availible')\n",
    "            item = element\n",
    "            break\n",
    "    \n",
    "    if token: \n",
    "        return item\n",
    "    \n",
    "    if not token:\n",
    "        print('Not availible')\n",
    "        \n",
    "seek_product('milk')"
   ]
  },
  {
   "cell_type": "code",
   "execution_count": 10,
   "id": "6b3a3e56",
   "metadata": {},
   "outputs": [
    {
     "name": "stdout",
     "output_type": "stream",
     "text": [
      "for buy a product insert the number 1, for refill a product insert the number 21\n",
      "Insert the productmilk\n",
      "Availible\n",
      "Amount to buy: 12\n",
      "Not enough products to perform sell, only 8 availible\n",
      "Choose an option\n"
     ]
    }
   ],
   "source": [
    "insert_action = int(input('for buy a product insert the number 1, for refill a product insert the number 2'))\n",
    "\n",
    "if insert_action == 1:\n",
    "    product = input(\"Insert the product\")\n",
    "    product = seek_product(product)\n",
    "    amount = int(input('Amount to buy: '))\n",
    "    sell_product(product, amount)\n",
    "    \n",
    "if insert_action == 2:\n",
    "    product = input(\"Insert the product\")\n",
    "    product = seek_product(product)\n",
    "    amount = int(input('Amount to refill: '))\n",
    "    refill_product(product, amount)\n",
    "    \n",
    "else :\n",
    "    print('Choose an option')"
   ]
  },
  {
   "cell_type": "code",
   "execution_count": null,
   "id": "cc266448",
   "metadata": {},
   "outputs": [],
   "source": []
  }
 ],
 "metadata": {
  "kernelspec": {
   "display_name": "Python 3 (ipykernel)",
   "language": "python",
   "name": "python3"
  },
  "language_info": {
   "codemirror_mode": {
    "name": "ipython",
    "version": 3
   },
   "file_extension": ".py",
   "mimetype": "text/x-python",
   "name": "python",
   "nbconvert_exporter": "python",
   "pygments_lexer": "ipython3",
   "version": "3.10.9"
  }
 },
 "nbformat": 4,
 "nbformat_minor": 5
}
