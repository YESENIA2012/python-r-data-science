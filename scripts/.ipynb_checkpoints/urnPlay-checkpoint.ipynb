{
 "cells": [
  {
   "cell_type": "code",
   "execution_count": 2,
   "metadata": {},
   "outputs": [
    {
     "ename": "NameError",
     "evalue": "name 'costo_exito' is not defined",
     "output_type": "error",
     "traceback": [
      "\u001b[0;31m---------------------------------------------------------------------------\u001b[0m",
      "\u001b[0;31mNameError\u001b[0m                                 Traceback (most recent call last)",
      "Cell \u001b[0;32mIn[2], line 45\u001b[0m\n\u001b[1;32m     42\u001b[0m     \u001b[38;5;28;01melse\u001b[39;00m: \n\u001b[1;32m     43\u001b[0m         casos_fracaso \u001b[38;5;241m=\u001b[39m casos_fracaso \u001b[38;5;241m+\u001b[39m \u001b[38;5;241m1\u001b[39m\n\u001b[0;32m---> 45\u001b[0m \u001b[38;5;28mprint\u001b[39m(\u001b[38;5;124mf\u001b[39m\u001b[38;5;124m'\u001b[39m\u001b[38;5;124mIntentos exitosos: \u001b[39m\u001b[38;5;132;01m{\u001b[39;00mcosto_exito\u001b[38;5;132;01m}\u001b[39;00m\u001b[38;5;124m, intentos no exitosos: \u001b[39m\u001b[38;5;132;01m{\u001b[39;00mcosto_fracaso\u001b[38;5;132;01m}\u001b[39;00m\u001b[38;5;124m'\u001b[39m)\n\u001b[1;32m     46\u001b[0m \u001b[38;5;28mprint\u001b[39m(\u001b[38;5;124mf\u001b[39m\u001b[38;5;124m'\u001b[39m\u001b[38;5;124mProbabilidad de éxito = \u001b[39m\u001b[38;5;132;01m{\u001b[39;00mcasos_exito \u001b[38;5;241m*\u001b[39m \u001b[38;5;241m100\u001b[39m \u001b[38;5;241m/\u001b[39m (casos_exito \u001b[38;5;241m+\u001b[39m casos_fracaso)\u001b[38;5;132;01m}\u001b[39;00m\u001b[38;5;124m%\u001b[39m\u001b[38;5;124m'\u001b[39m)\n\u001b[1;32m     48\u001b[0m \u001b[38;5;28;01mif\u001b[39;00m casos_exito \u001b[38;5;241m>\u001b[39m casos_fracaso:\n",
      "\u001b[0;31mNameError\u001b[0m: name 'costo_exito' is not defined"
     ]
    }
   ],
   "source": [
    "# Problema de la urna\n",
    "import numpy as np # esto sirve para sacar elementos aleatorios\n",
    "import matplotlib.pyplot as plt\n",
    "\n",
    "costo_juego = 50\n",
    "gasto_total = []\n",
    "urna = ['verde', 'verde', 'verde', 'rojo', 'rojo']\n",
    "\n",
    "np.random.choice(urna, 1)[0] #aca le estoy diciendo que de la lista urna, extraiga un valor\n",
    "\n",
    "def model_urna(urna, costo_juego):\n",
    "    costo_final = 0\n",
    "    extracción = ''\n",
    "\n",
    "    while extracción != 'verde':\n",
    "        extracción = np.random.choice(urna, 1)[0]\n",
    "        urna.remove(extracción)\n",
    "        costo_final = costo_final + costo_juego\n",
    "    return costo_final\n",
    "\n",
    "urna = ['verde', 'verde', 'verde', 'rojo', 'rojo']\n",
    "costo_juego = 50\n",
    "\n",
    "model_urna(urna, costo_juego)\n",
    "\n",
    "costo_juego = 50\n",
    "costo_compra = 150\n",
    "num_intentos = 10000\n",
    "obs = []\n",
    "\n",
    "for i in range(num_intentos):\n",
    "    urna = ['verde', 'verde', 'verde', 'rojo', 'rojo', 'rojo', 'rojo', 'rojo']\n",
    "    m = model_urna(urna, costo_juego)\n",
    "    obs.append(m)\n",
    "\n",
    "casos_exito = 0\n",
    "casos_fracaso = 0 \n",
    "\n",
    "for o in obs:\n",
    "    if o < costo_compra:\n",
    "        casos_exito = casos_exito + 1\n",
    "    else: \n",
    "        casos_fracaso = casos_fracaso + 1\n",
    "\n",
    "print(f'Intentos exitosos: {casos_exito}, intentos no exitosos: {casos_fracaso}')\n",
    "print(f'Probabilidad de éxito = {casos_exito * 100 / (casos_exito + casos_fracaso)}%')\n",
    "\n",
    "if casos_exito > casos_fracaso:\n",
    "    print('Juega')\n",
    "else:\n",
    "    print('Compra')\n",
    "\n",
    "plt.figure(figsize = (6,6))\n",
    "plt.title('Modelación de costo de juego')\n",
    "plt.xlabel('Simulación')\n",
    "plt.ylabel('Costo de juego $')\n",
    "plt.hist(obs)\n",
    "\n",
    "plt.show()"
   ]
  },
  {
   "cell_type": "code",
   "execution_count": null,
   "metadata": {},
   "outputs": [],
   "source": []
  }
 ],
 "metadata": {
  "kernelspec": {
   "display_name": "Python 3 (ipykernel)",
   "language": "python",
   "name": "python3"
  },
  "language_info": {
   "codemirror_mode": {
    "name": "ipython",
    "version": 3
   },
   "file_extension": ".py",
   "mimetype": "text/x-python",
   "name": "python",
   "nbconvert_exporter": "python",
   "pygments_lexer": "ipython3",
   "version": "3.10.9"
  }
 },
 "nbformat": 4,
 "nbformat_minor": 2
}
